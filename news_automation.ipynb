{
 "cells": [
  {
   "cell_type": "code",
   "execution_count": 19,
   "id": "6e5dae96",
   "metadata": {},
   "outputs": [],
   "source": [
    "import requests #for https request requests"
   ]
  },
  {
   "cell_type": "code",
   "execution_count": 20,
   "id": "ead2be00",
   "metadata": {},
   "outputs": [],
   "source": [
    "from bs4 import BeautifulSoup #web scraping"
   ]
  },
  {
   "cell_type": "code",
   "execution_count": 21,
   "id": "c8a1fad9",
   "metadata": {},
   "outputs": [],
   "source": [
    "import smtplib #email body"
   ]
  },
  {
   "cell_type": "code",
   "execution_count": 22,
   "id": "ce5c0c0b",
   "metadata": {},
   "outputs": [],
   "source": [
    "from email.mime.multipart import MIMEMultipart\n"
   ]
  },
  {
   "cell_type": "code",
   "execution_count": 23,
   "id": "9f78f660",
   "metadata": {},
   "outputs": [],
   "source": [
    "from email.mime.text import MIMEText"
   ]
  },
  {
   "cell_type": "code",
   "execution_count": 24,
   "id": "c12d1c8c",
   "metadata": {},
   "outputs": [],
   "source": [
    "import datetime"
   ]
  },
  {
   "cell_type": "code",
   "execution_count": 33,
   "id": "7d43fdb4",
   "metadata": {},
   "outputs": [],
   "source": [
    "now = datetime.datetime.now()"
   ]
  },
  {
   "cell_type": "code",
   "execution_count": 34,
   "id": "be3f45a1",
   "metadata": {},
   "outputs": [],
   "source": [
    "#email content placeholder\n",
    "content = ''"
   ]
  },
  {
   "cell_type": "code",
   "execution_count": 72,
   "id": "5dc1c226",
   "metadata": {},
   "outputs": [
    {
     "name": "stdout",
     "output_type": "stream",
     "text": [
      "Extracting Hacker News Stories...\n",
      "Composing Email...\n",
      "Initiating Server...\n"
     ]
    },
    {
     "name": "stderr",
     "output_type": "stream",
     "text": [
      "send: 'ehlo hp.bbrouter\\r\\n'\n",
      "reply: b'250-smtp.gmail.com at your service, [103.215.237.210]\\r\\n'\n",
      "reply: b'250-SIZE 35882577\\r\\n'\n",
      "reply: b'250-8BITMIME\\r\\n'\n",
      "reply: b'250-STARTTLS\\r\\n'\n",
      "reply: b'250-ENHANCEDSTATUSCODES\\r\\n'\n",
      "reply: b'250-PIPELINING\\r\\n'\n",
      "reply: b'250-CHUNKING\\r\\n'\n",
      "reply: b'250 SMTPUTF8\\r\\n'\n",
      "reply: retcode (250); Msg: b'smtp.gmail.com at your service, [103.215.237.210]\\nSIZE 35882577\\n8BITMIME\\nSTARTTLS\\nENHANCEDSTATUSCODES\\nPIPELINING\\nCHUNKING\\nSMTPUTF8'\n",
      "send: 'STARTTLS\\r\\n'\n",
      "reply: b'220 2.0.0 Ready to start TLS\\r\\n'\n",
      "reply: retcode (220); Msg: b'2.0.0 Ready to start TLS'\n",
      "send: 'ehlo hp.bbrouter\\r\\n'\n",
      "reply: b'250-smtp.gmail.com at your service, [103.215.237.210]\\r\\n'\n",
      "reply: b'250-SIZE 35882577\\r\\n'\n",
      "reply: b'250-8BITMIME\\r\\n'\n",
      "reply: b'250-AUTH LOGIN PLAIN XOAUTH2 PLAIN-CLIENTTOKEN OAUTHBEARER XOAUTH\\r\\n'\n",
      "reply: b'250-ENHANCEDSTATUSCODES\\r\\n'\n",
      "reply: b'250-PIPELINING\\r\\n'\n",
      "reply: b'250-CHUNKING\\r\\n'\n",
      "reply: b'250 SMTPUTF8\\r\\n'\n",
      "reply: retcode (250); Msg: b'smtp.gmail.com at your service, [103.215.237.210]\\nSIZE 35882577\\n8BITMIME\\nAUTH LOGIN PLAIN XOAUTH2 PLAIN-CLIENTTOKEN OAUTHBEARER XOAUTH\\nENHANCEDSTATUSCODES\\nPIPELINING\\nCHUNKING\\nSMTPUTF8'\n",
      "send: 'AUTH PLAIN AGVrYW50eWFkYXYyMDA4QGdtYWlsLmNvbQByemZuIGRobWcgemJyaiBscGtx\\r\\n'\n",
      "reply: b'235 2.7.0 Accepted\\r\\n'\n",
      "reply: retcode (235); Msg: b'2.7.0 Accepted'\n",
      "send: 'mail FROM:<ekantyadav2008@gmail.com> size=20254\\r\\n'\n",
      "reply: b'250 2.1.0 OK o9-20020a056a00214900b006e4e616e520sm5331140pfk.72 - gsmtp\\r\\n'\n",
      "reply: retcode (250); Msg: b'2.1.0 OK o9-20020a056a00214900b006e4e616e520sm5331140pfk.72 - gsmtp'\n",
      "send: 'rcpt TO:<nikhildubey649@gmail.com>\\r\\n'\n",
      "reply: b'250 2.1.5 OK o9-20020a056a00214900b006e4e616e520sm5331140pfk.72 - gsmtp\\r\\n'\n",
      "reply: retcode (250); Msg: b'2.1.5 OK o9-20020a056a00214900b006e4e616e520sm5331140pfk.72 - gsmtp'\n",
      "send: 'data\\r\\n'\n",
      "reply: b'354  Go ahead o9-20020a056a00214900b006e4e616e520sm5331140pfk.72 - gsmtp\\r\\n'\n",
      "reply: retcode (354); Msg: b'Go ahead o9-20020a056a00214900b006e4e616e520sm5331140pfk.72 - gsmtp'\n",
      "data: (354, b'Go ahead o9-20020a056a00214900b006e4e616e520sm5331140pfk.72 - gsmtp')\n",
      "send: b'Content-Type: multipart/mixed; boundary=\"===============8737163849700086804==\"\\r\\nMIME-Version: 1.0\\r\\nSubject: Top News Stories [Automated Email] 17-3-2024\\r\\nFrom: ekantyadav2008@gmail.com\\r\\nTo: nikhildubey649@gmail.com\\r\\n\\r\\n--===============8737163849700086804==\\r\\nContent-Type: text/html; charset=\"utf-8\"\\r\\nMIME-Version: 1.0\\r\\nContent-Transfer-Encoding: base64\\r\\n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\\r\\nLS0tPGJyPjxicj48YnI+RW5kIG9mIE1lc3NhZ2U=\\r\\n\\r\\n--===============8737163849700086804==--\\r\\n.\\r\\n'\n",
      "reply: b'250 2.0.0 OK  1710621202 o9-20020a056a00214900b006e4e616e520sm5331140pfk.72 - gsmtp\\r\\n'\n",
      "reply: retcode (250); Msg: b'2.0.0 OK  1710621202 o9-20020a056a00214900b006e4e616e520sm5331140pfk.72 - gsmtp'\n",
      "data: (250, b'2.0.0 OK  1710621202 o9-20020a056a00214900b006e4e616e520sm5331140pfk.72 - gsmtp')\n",
      "send: 'quit\\r\\n'\n"
     ]
    },
    {
     "name": "stdout",
     "output_type": "stream",
     "text": [
      "Email Sent...\n"
     ]
    },
    {
     "name": "stderr",
     "output_type": "stream",
     "text": [
      "reply: b'221 2.0.0 closing connection o9-20020a056a00214900b006e4e616e520sm5331140pfk.72 - gsmtp\\r\\n'\n",
      "reply: retcode (221); Msg: b'2.0.0 closing connection o9-20020a056a00214900b006e4e616e520sm5331140pfk.72 - gsmtp'\n"
     ]
    },
    {
     "data": {
      "text/plain": [
       "(221,\n",
       " b'2.0.0 closing connection o9-20020a056a00214900b006e4e616e520sm5331140pfk.72 - gsmtp')"
      ]
     },
     "execution_count": 72,
     "metadata": {},
     "output_type": "execute_result"
    }
   ],
   "source": [
    "from selenium import webdriver\n",
    "from selenium.webdriver.chrome.service import Service\n",
    "from selenium.webdriver.common.by import By\n",
    "from selenium.webdriver.common.keys import Keys\n",
    "from selenium.webdriver.chrome.options import Options\n",
    "from selenium.webdriver.support.ui import WebDriverWait\n",
    "from selenium.webdriver.support import expected_conditions as EC\n",
    "from bs4 import BeautifulSoup\n",
    "import time\n",
    "import smtplib\n",
    "from email.mime.multipart import MIMEMultipart\n",
    "from email.mime.text import MIMEText\n",
    "from datetime import datetime\n",
    "\n",
    "def extract_news(url):\n",
    "    print('Extracting Hacker News Stories...')\n",
    "    cnt = ''\n",
    "    cnt +=('<b>hindustantimes Top Stories:</b>\\n'+'<br>'+'-'*50+'<br>')\n",
    "    \n",
    "    # Initialize Chrome WebDriver\n",
    "    driver = webdriver.Chrome()\n",
    "    \n",
    "    driver.get(url)\n",
    "    time.sleep(5)  # Let the page load completely\n",
    "    \n",
    "    soup = BeautifulSoup(driver.page_source, 'html.parser')\n",
    "    headline_elements = soup.find_all('h3', class_='hdg3')\n",
    "    count = 0\n",
    "    for i, tag in enumerate(headline_elements):\n",
    "        count += 1\n",
    "        \n",
    "        # Check if the counter is less than or equal to 4\n",
    "        if count <= 4:\n",
    "            continue  # Skip the loop iteration\n",
    "        \n",
    "        href = \"https://www.hindustantimes.com\" + tag.a.get('href')  # Prepend base URL to href attribute value\n",
    "        cnt += ((str(i-3)+' :: '+ '<a href=\"' + href + '\">' + tag.text + '</a>' + \"\\n\" + '<br>') )\n",
    "    \n",
    "    driver.quit()\n",
    "    \n",
    "    return cnt\n",
    "\n",
    "url = 'https://www.hindustantimes.com/'\n",
    "content = extract_news(url)\n",
    "content += ('<br>------<br>')\n",
    "content +=('<br><br>End of Message')\n",
    "\n",
    "print('Composing Email...')\n",
    "\n",
    "# Update your email details\n",
    "SERVER = 'smtp.gmail.com'\n",
    "PORT = 587\n",
    "FROM = 'ekantyadav2008@gmail.com'\n",
    "TO = 'nikhildubey649@gmail.com'\n",
    "PASS = 'rzfn dhmg zbrj lpkq'\n",
    "\n",
    "now = datetime.now()\n",
    "\n",
    "msg = MIMEMultipart()\n",
    "msg['Subject'] = 'Top News Stories [Automated Email] {}-{}-{}'.format(now.day, now.month, now.year)\n",
    "msg['From'] = FROM\n",
    "msg['To'] = TO\n",
    "\n",
    "msg.attach(MIMEText(content, 'html'))\n",
    "\n",
    "print('Initiating Server...')\n",
    "\n",
    "server = smtplib.SMTP(SERVER, PORT)\n",
    "server.set_debuglevel(1)\n",
    "server.ehlo()\n",
    "server.starttls()\n",
    "server.login(FROM, PASS)\n",
    "server.sendmail(FROM, TO, msg.as_string())\n",
    "\n",
    "print('Email Sent...')\n",
    "\n",
    "server.quit()\n"
   ]
  },
  {
   "cell_type": "code",
   "execution_count": null,
   "id": "23aaff9f",
   "metadata": {},
   "outputs": [],
   "source": []
  }
 ],
 "metadata": {
  "kernelspec": {
   "display_name": "Python 3 (ipykernel)",
   "language": "python",
   "name": "python3"
  },
  "language_info": {
   "codemirror_mode": {
    "name": "ipython",
    "version": 3
   },
   "file_extension": ".py",
   "mimetype": "text/x-python",
   "name": "python",
   "nbconvert_exporter": "python",
   "pygments_lexer": "ipython3",
   "version": "3.11.5"
  }
 },
 "nbformat": 4,
 "nbformat_minor": 5
}
